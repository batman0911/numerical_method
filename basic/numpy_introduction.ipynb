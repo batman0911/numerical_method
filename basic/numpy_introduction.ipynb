{
 "cells": [
  {
   "cell_type": "markdown",
   "metadata": {},
   "source": [
    "# Introduction to numpy"
   ]
  },
  {
   "cell_type": "code",
   "execution_count": 1,
   "metadata": {},
   "outputs": [],
   "source": [
    "import numpy as np"
   ]
  },
  {
   "cell_type": "markdown",
   "metadata": {},
   "source": [
    "access elements"
   ]
  },
  {
   "cell_type": "code",
   "execution_count": 3,
   "metadata": {},
   "outputs": [
    {
     "name": "stdout",
     "output_type": "stream",
     "text": [
      "[0 1 2 3 4 5 6 7 8 9]\n",
      "[0 1 2 3 4]\n",
      "[5 6 7 8 9]\n",
      "[4 5 6]\n",
      "[0 2 4 6 8]\n",
      "[1 3 5 7 9]\n",
      "[9 8 7 6 5 4 3 2 1 0]\n"
     ]
    }
   ],
   "source": [
    "x=np.arange(10) \n",
    "print(x)\n",
    "print(x[:5]) \n",
    "print(x[5:])\n",
    "print(x[4:7]) \n",
    "print(x[::2]) \n",
    "print(x[1::2]) \n",
    "print(x[::-1])"
   ]
  },
  {
   "cell_type": "markdown",
   "metadata": {},
   "source": [
    "view"
   ]
  },
  {
   "cell_type": "code",
   "execution_count": 5,
   "metadata": {},
   "outputs": [
    {
     "name": "stdout",
     "output_type": "stream",
     "text": [
      "[0 1 2 3 4 5 6 7 8 9]\n",
      "[0 2 4 6 8]\n",
      "True\n",
      "[12  2  4  6  8] [12  1  2  3  4  5  6  7  8  9]\n"
     ]
    }
   ],
   "source": [
    "a=np.arange(10) \n",
    "print(a)\n",
    "b=a[::2]\n",
    "print(b) \n",
    "print(np.may_share_memory(a,b)) \n",
    "b[0]=12\n",
    "print(b,a)"
   ]
  },
  {
   "cell_type": "markdown",
   "metadata": {},
   "source": [
    "subarray and copy"
   ]
  },
  {
   "cell_type": "code",
   "execution_count": 7,
   "metadata": {},
   "outputs": [
    {
     "name": "stdout",
     "output_type": "stream",
     "text": [
      "[0 1 2 3 4 5 6 7 8 9]\n",
      "[12  2  4  6  8]\n",
      "False\n"
     ]
    }
   ],
   "source": [
    "a = np.arange(10)\n",
    "print(a)\n",
    "c = a[::2].copy() # force a copy print(c)\n",
    "c[0] = 12\n",
    "print(c) \n",
    "print(np.may_share_memory(a,c))"
   ]
  },
  {
   "cell_type": "markdown",
   "metadata": {},
   "source": [
    "computation"
   ]
  },
  {
   "cell_type": "code",
   "execution_count": 9,
   "metadata": {},
   "outputs": [
    {
     "name": "stdout",
     "output_type": "stream",
     "text": [
      "x=  [0 1 2 3 4 5 6 7 8 9]\n",
      "x+5= [ 5  6  7  8  9 10 11 12 13 14]\n",
      "x=5= [-5 -4 -3 -2 -1  0  1  2  3  4]\n",
      "x*2= [ 0  2  4  6  8 10 12 14 16 18]\n",
      "x/2= [0.  0.5 1.  1.5 2.  2.5 3.  3.5 4.  4.5]\n",
      "x//2= [0 0 1 1 2 2 3 3 4 4]\n"
     ]
    }
   ],
   "source": [
    "x = np.arange(10) \n",
    "print(\"x= \", x) \n",
    "print(\"x+5=\", x+5) \n",
    "print(\"x=5=\", x-5) \n",
    "print(\"x*2=\", x*2) \n",
    "print(\"x/2=\", x/2) \n",
    "print(\"x//2=\", x//2)"
   ]
  },
  {
   "cell_type": "code",
   "execution_count": 10,
   "metadata": {},
   "outputs": [
    {
     "name": "stdout",
     "output_type": "stream",
     "text": [
      "[5. 5. 3.]\n",
      "[2 3 4 5 6]\n",
      "x= [1, 2, 3]\n",
      "e^x= [ 2.71828183  7.3890561  20.08553692]\n",
      "2^x= [2. 4. 8.]\n",
      "2^x= [2 4 8]\n",
      "3^x= [ 3  9 27]\n"
     ]
    }
   ],
   "source": [
    "x = np.array([-3+4j, 3-4j, 0-3j]) \n",
    "print(np.abs(x)) \n",
    "x = np.array([-2, 3, -4, 5, -6]) \n",
    "print(np.abs(x))\n",
    "x=[1, 2, 3]\n",
    "print(\"x=\", x) \n",
    "print(\"e^x=\", np.exp(x)) \n",
    "print(\"2^x=\", np.exp2(x)) \n",
    "print(\"2^x=\", np.power(2,x)) \n",
    "print(\"3^x=\", np.power(3,x))"
   ]
  },
  {
   "cell_type": "code",
   "execution_count": 11,
   "metadata": {},
   "outputs": [
    {
     "name": "stdout",
     "output_type": "stream",
     "text": [
      "[1 2 3 4]\n",
      "Sum= 10\n",
      "Product= 24\n",
      "Sums= [ 1  3  6 10]\n",
      "Products= [ 1  2  6 24]\n"
     ]
    }
   ],
   "source": [
    "x = np.arange(1, 5) \n",
    "print(x)\n",
    "print(\"Sum=\", np.add.reduce(x)) \n",
    "print(\"Product=\", np.multiply.reduce(x)) \n",
    "print(\"Sums=\", np.add.accumulate(x)) \n",
    "print(\"Products=\", np.multiply.accumulate(x))"
   ]
  },
  {
   "cell_type": "code",
   "execution_count": 12,
   "metadata": {},
   "outputs": [
    {
     "name": "stdout",
     "output_type": "stream",
     "text": [
      "[[78 32 18 82]\n",
      " [59  5 20 30]\n",
      " [50 49 48 40]]\n",
      "511\n",
      "[187  86  86 152]\n",
      "[210 114 187]\n"
     ]
    }
   ],
   "source": [
    "M=np.random.randint(1, 100, size=(3,4)) \n",
    "print(M)\n",
    "print(np.sum(M)) \n",
    "print(np.sum(M, axis=0)) \n",
    "print(np.sum(M, axis=1))"
   ]
  }
 ],
 "metadata": {
  "kernelspec": {
   "display_name": "venv",
   "language": "python",
   "name": "python3"
  },
  "language_info": {
   "codemirror_mode": {
    "name": "ipython",
    "version": 3
   },
   "file_extension": ".py",
   "mimetype": "text/x-python",
   "name": "python",
   "nbconvert_exporter": "python",
   "pygments_lexer": "ipython3",
   "version": "3.10.10"
  },
  "orig_nbformat": 4
 },
 "nbformat": 4,
 "nbformat_minor": 2
}
